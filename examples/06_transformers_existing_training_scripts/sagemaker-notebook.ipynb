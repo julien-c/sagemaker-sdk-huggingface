{
 "cells": [
  {
   "cell_type": "markdown",
   "metadata": {},
   "source": [
    "# Huggingface Sagemaker-sdk extension example using `Trainer` class"
   ]
  },
  {
   "cell_type": "markdown",
   "metadata": {},
   "source": [
    "## Installs requirements if you haven´t already done it and sets up ipywidgets for datasets in sagemaker studio"
   ]
  },
  {
   "cell_type": "code",
   "execution_count": 10,
   "metadata": {},
   "outputs": [],
   "source": [
    "%%capture\n",
    "!pip install -r ../requirements.txt --upgrade"
   ]
  },
  {
   "cell_type": "code",
   "execution_count": 8,
   "metadata": {},
   "outputs": [],
   "source": [
    "%%capture\n",
    "import os \n",
    "import IPython\n",
    "if 'SAGEMAKER_TRAINING_MODULE' in os.environ:\n",
    "    !conda install -c conda-forge ipywidgets -y\n",
    "    IPython.Application.instance().kernel.do_shutdown(True) # has to restart kernel so changes are used"
   ]
  },
  {
   "cell_type": "markdown",
   "metadata": {},
   "source": [
    "## Initializing Sagemaker Session with local AWS Profile"
   ]
  },
  {
   "cell_type": "markdown",
   "metadata": {},
   "source": [
    "From outside these notebooks, `get_execution_role()` will return an exception because it does not know what is the role name that SageMaker requires.\n",
    "\n",
    "To solve this issue, pass the IAM role name instead of using `get_execution_role()`.\n",
    "\n",
    "Therefore you have to create an IAM-Role with correct permission for sagemaker to start training jobs and download files from s3. Beware that you need s3 permission on bucket-level `\"arn:aws:s3:::sagemaker-*\"` and on object-level     `\"arn:aws:s3:::sagemaker-*/*\"`. \n",
    "\n",
    "You can read [here](https://docs.aws.amazon.com/sagemaker/latest/dg/sagemaker-roles.html) how to create a role with right permissions."
   ]
  },
  {
   "cell_type": "code",
   "execution_count": 1,
   "metadata": {},
   "outputs": [],
   "source": [
    "# local aws profile configured in ~/.aws/credentials\n",
    "local_profile_name='hf-sm' # optional if you only have default configured\n",
    "\n",
    "# role name for sagemaker -> needs the described permissions from above\n",
    "role_name = \"SageMakerRole\""
   ]
  },
  {
   "cell_type": "code",
   "execution_count": 2,
   "metadata": {
    "scrolled": true
   },
   "outputs": [
    {
     "name": "stderr",
     "output_type": "stream",
     "text": [
      "Couldn't call 'get_role' to get Role ARN from role name philipp to get Role path.\n"
     ]
    },
    {
     "name": "stdout",
     "output_type": "stream",
     "text": [
      "arn:aws:iam::558105141721:role/SageMakerRole\n"
     ]
    }
   ],
   "source": [
    "import sagemaker\n",
    "import os\n",
    "try:\n",
    "    sess = sagemaker.Session()\n",
    "    role = sagemaker.get_execution_role()\n",
    "except Exception:\n",
    "    import boto3\n",
    "    # creates a boto3 session using the local profile we defined\n",
    "    if local_profile_name:\n",
    "        os.environ['AWS_PROFILE'] = local_profile_name # setting env var bc local-mode cannot use boto3 session\n",
    "        #bt3 = boto3.session.Session(profile_name=local_profile_name)\n",
    "        #iam = bt3.client('iam')\n",
    "        # create sagemaker session with boto3 session\n",
    "        #sess = sagemaker.Session(boto_session=bt3)\n",
    "    iam = boto3.client('iam')\n",
    "    sess = sagemaker.Session()\n",
    "    # get role arn\n",
    "    role = iam.get_role(RoleName=role_name)['Role']['Arn']\n",
    "    \n",
    "\n",
    "\n",
    "print(role)\n"
   ]
  },
  {
   "cell_type": "markdown",
   "metadata": {},
   "source": [
    "### Sagemaker Session prints"
   ]
  },
  {
   "cell_type": "code",
   "execution_count": 11,
   "metadata": {
    "scrolled": true
   },
   "outputs": [
    {
     "name": "stdout",
     "output_type": "stream",
     "text": [
      "['datasets/imdb/small/test/dataset.arrow', 'datasets/imdb/small/test/dataset_info.json', 'datasets/imdb/small/test/state.json', 'datasets/imdb/small/test/test_dataset.pt', 'datasets/imdb/small/train/dataset.arrow', 'datasets/imdb/small/train/dataset_info.json', 'datasets/imdb/small/train/state.json', 'datasets/imdb/small/training/train_dataset.pt', 'datasets/imdb/test/dataset.arrow', 'datasets/imdb/test/dataset_info.json', 'datasets/imdb/test/state.json', 'datasets/imdb/train/dataset.arrow', 'datasets/imdb/train/dataset_info.json', 'datasets/imdb/train/state.json']\n",
      "sagemaker-eu-central-1-558105141721\n",
      "eu-central-1\n"
     ]
    }
   ],
   "source": [
    "print(sess.list_s3_files(sess.default_bucket(),'datasets/')) # list objects in s3 under datsets/\n",
    "print(sess.default_bucket()) # s3 bucketname\n",
    "print(sess.boto_region_name) # aws region of sagemaker session"
   ]
  },
  {
   "cell_type": "markdown",
   "metadata": {},
   "source": [
    "# Imports\n",
    "\n",
    "Since we are using the `.py` module directly from `huggingface/` we have to adjust our `sys.path` to be able to import our estimator"
   ]
  },
  {
   "cell_type": "code",
   "execution_count": 3,
   "metadata": {},
   "outputs": [],
   "source": [
    "import sys, os\n",
    "\n",
    "module_path = os.path.abspath(os.path.join('../..'))\n",
    "if module_path not in sys.path:\n",
    "    sys.path.append(module_path)\n"
   ]
  },
  {
   "cell_type": "code",
   "execution_count": 4,
   "metadata": {},
   "outputs": [],
   "source": [
    "%load_ext autoreload\n",
    "%autoreload 2"
   ]
  },
  {
   "cell_type": "code",
   "execution_count": 5,
   "metadata": {
    "scrolled": true
   },
   "outputs": [],
   "source": [
    "from huggingface.estimator import HuggingFace"
   ]
  },
  {
   "cell_type": "markdown",
   "metadata": {},
   "source": [
    "# Create an Estimator with an Experiment\n",
    "\n",
    "[Metric Documentation](https://docs.aws.amazon.com/sagemaker/latest/dg/training-metrics.html)\n",
    "\n",
    "To find a metric, SageMaker searches the logs that your algorithm emits and finds logs that match the regular expression that you specify for that metric. \n",
    "\n",
    "Defining Training Metrics (SageMaker Python SDK)\n",
    "Define the metrics that you want to send to CloudWatch by specifying a list of metric names and regular expressions as the metric_definitions argument when you initialize an Estimator object. For example, if you want to monitor both the train:error and validation:error metrics in CloudWatch, your Estimator initialization would look like the following:\n",
    "```python\n",
    "Estimator(\n",
    "    ...,\n",
    "    sagemaker_session = sm_sess,\n",
    "    tags = [{'Key': 'my-experiments', 'Value': 'demo2'}])\n",
    "\n",
    "estimator.fit(\n",
    "    ...,\n",
    "    experiment_config = {\n",
    "        # \"ExperimentName\"\n",
    "        \"TrialName\" : demo_trial.trial_name,\n",
    "        \"TrialComponentDisplayName\" : \"TrainingJob\",\n",
    "    })\n",
    "```\n",
    "\n",
    "In the regex for the train:error metric defined above, the first part of the regex finds the exact text `\"Train_error=\"`, and the expression `(.*?);` captures zero or more of any character until the first `;` semicolon character.\n",
    "\n",
    "For more information about training by using Amazon SageMaker Python SDK estimators, see https://github.com/aws/sagemaker-python-sdk#sagemaker-python-sdk-overview.\n",
    "\n",
    "# Scripts\n",
    "https://github.com/huggingface/transformers/tree/master/examples/text-classification\n",
    "\n",
    "\n",
    "## GLUE\n",
    "\n",
    "    export TASK_NAME=MRPC\n",
    "\n",
    "    python run_glue.py \\\n",
    "      --model_name_or_path bert-base-cased \\\n",
    "      --task_name $TASK_NAME \\\n",
    "      --do_train \\\n",
    "      --do_eval \\\n",
    "      --max_seq_length 128 \\\n",
    "      --per_device_train_batch_size 32 \\\n",
    "      --learning_rate 2e-5 \\\n",
    "      --num_train_epochs 3.0 \\\n",
    "      --output_dir /tmp/$TASK_NAME/\n",
    "      \n",
    "## XNLI      \n",
    "    export XNLI_DIR=/path/to/XNLI\n",
    "\n",
    "    python run_xnli.py \\\n",
    "      --model_name_or_path bert-base-multilingual-cased \\\n",
    "      --language de \\\n",
    "      --train_language en \\\n",
    "      --do_train \\\n",
    "      --do_eval \\\n",
    "      --data_dir $XNLI_DIR \\\n",
    "      --per_device_train_batch_size 32 \\\n",
    "      --learning_rate 5e-5 \\\n",
    "      --num_train_epochs 2.0 \\\n",
    "      --max_seq_length 128 \\\n",
    "      --output_dir /tmp/debug_xnli/ \\\n",
    "      --save_steps -1\n"
   ]
  },
  {
   "cell_type": "markdown",
   "metadata": {},
   "source": [
    "## Local Estimator ##"
   ]
  },
  {
   "cell_type": "code",
   "execution_count": 23,
   "metadata": {},
   "outputs": [
    {
     "name": "stdout",
     "output_type": "stream",
     "text": [
      "README.md                     run_tf_glue.py\r\n",
      "requirements.txt              run_tf_text_classification.py\r\n",
      "run_glue.py                   run_xnli.py\r\n"
     ]
    }
   ],
   "source": [
    "! ls "
   ]
  },
  {
   "cell_type": "code",
   "execution_count": 16,
   "metadata": {},
   "outputs": [],
   "source": [
    "from huggingface.estimator import HuggingFace\n",
    "\n",
    "\n",
    "local_estimator = HuggingFace(entry_point='run_glue.py',\n",
    "                            source_dir='../../transformers/examples/text-classification',\n",
    "                            base_job_name='huggingface-sdk-extension',\n",
    "                            instance_type='local',\n",
    "                            instance_count=1,\n",
    "                            role=role,\n",
    "                            framework_version={'transformers':'4.1.1','datasets':'1.1.3'},\n",
    "                            py_version='py3',\n",
    "                            hyperparameters = {\n",
    "                                'model_name_or_path': 'distilbert-base-cased',\n",
    "                                'task_name':'MRPC',\n",
    "                                'do_train': True,\n",
    "                                'do_eval': True,\n",
    "                                'max_seq_length':'128',\n",
    "                                'per_device_train_batch_size':32,\n",
    "                                'learning_rate':2e-5,\n",
    "                                'num_train_epochs': 3.0,\n",
    "                                'output_dir':'Not defined sagemaker'\n",
    "                            })"
   ]
  },
  {
   "cell_type": "code",
   "execution_count": 17,
   "metadata": {},
   "outputs": [
    {
     "name": "stdout",
     "output_type": "stream",
     "text": [
      "Creating rp6bue5co8-algo-1-g4cu2 ... \n",
      "\u001b[1BAttaching to rp6bue5co8-algo-1-g4cu22mdone\u001b[0m\n",
      "\u001b[36mrp6bue5co8-algo-1-g4cu2 |\u001b[0m 2020-12-30 15:10:28,511 sagemaker-training-toolkit INFO     Imported framework sagemaker_pytorch_container.training\n",
      "\u001b[36mrp6bue5co8-algo-1-g4cu2 |\u001b[0m 2020-12-30 15:10:28,513 sagemaker-training-toolkit INFO     No GPUs detected (normal if no gpus installed)\n",
      "\u001b[36mrp6bue5co8-algo-1-g4cu2 |\u001b[0m 2020-12-30 15:10:28,529 sagemaker_pytorch_container.training INFO     Block until all host DNS lookups succeed.\n",
      "\u001b[36mrp6bue5co8-algo-1-g4cu2 |\u001b[0m 2020-12-30 15:10:28,532 sagemaker_pytorch_container.training INFO     Invoking user training script.\n",
      "\u001b[36mrp6bue5co8-algo-1-g4cu2 |\u001b[0m 2020-12-30 15:10:28,571 botocore.credentials INFO     Found credentials in environment variables.\n",
      "\u001b[36mrp6bue5co8-algo-1-g4cu2 |\u001b[0m 2020-12-30 15:10:28,816 sagemaker-training-toolkit INFO     No GPUs detected (normal if no gpus installed)\n",
      "\u001b[36mrp6bue5co8-algo-1-g4cu2 |\u001b[0m 2020-12-30 15:10:28,836 sagemaker-training-toolkit INFO     No GPUs detected (normal if no gpus installed)\n",
      "\u001b[36mrp6bue5co8-algo-1-g4cu2 |\u001b[0m 2020-12-30 15:10:28,858 sagemaker-training-toolkit INFO     No GPUs detected (normal if no gpus installed)\n",
      "\u001b[36mrp6bue5co8-algo-1-g4cu2 |\u001b[0m 2020-12-30 15:10:28,881 sagemaker-training-toolkit INFO     Invoking user script\n",
      "\u001b[36mrp6bue5co8-algo-1-g4cu2 |\u001b[0m \n",
      "\u001b[36mrp6bue5co8-algo-1-g4cu2 |\u001b[0m Training Env:\n",
      "\u001b[36mrp6bue5co8-algo-1-g4cu2 |\u001b[0m \n",
      "\u001b[36mrp6bue5co8-algo-1-g4cu2 |\u001b[0m {\n",
      "\u001b[36mrp6bue5co8-algo-1-g4cu2 |\u001b[0m     \"additional_framework_parameters\": {},\n",
      "\u001b[36mrp6bue5co8-algo-1-g4cu2 |\u001b[0m     \"channel_input_dirs\": {},\n",
      "\u001b[36mrp6bue5co8-algo-1-g4cu2 |\u001b[0m     \"current_host\": \"algo-1-g4cu2\",\n",
      "\u001b[36mrp6bue5co8-algo-1-g4cu2 |\u001b[0m     \"framework_module\": \"sagemaker_pytorch_container.training:main\",\n",
      "\u001b[36mrp6bue5co8-algo-1-g4cu2 |\u001b[0m     \"hosts\": [\n",
      "\u001b[36mrp6bue5co8-algo-1-g4cu2 |\u001b[0m         \"algo-1-g4cu2\"\n",
      "\u001b[36mrp6bue5co8-algo-1-g4cu2 |\u001b[0m     ],\n",
      "\u001b[36mrp6bue5co8-algo-1-g4cu2 |\u001b[0m     \"hyperparameters\": {\n",
      "\u001b[36mrp6bue5co8-algo-1-g4cu2 |\u001b[0m         \"model_name_or_path\": \"distilbert-base-cased\",\n",
      "\u001b[36mrp6bue5co8-algo-1-g4cu2 |\u001b[0m         \"task_name\": \"MRPC\",\n",
      "\u001b[36mrp6bue5co8-algo-1-g4cu2 |\u001b[0m         \"do_train\": true,\n",
      "\u001b[36mrp6bue5co8-algo-1-g4cu2 |\u001b[0m         \"do_eval\": true,\n",
      "\u001b[36mrp6bue5co8-algo-1-g4cu2 |\u001b[0m         \"max_seq_length\": \"128\",\n",
      "\u001b[36mrp6bue5co8-algo-1-g4cu2 |\u001b[0m         \"per_device_train_batch_size\": 32,\n",
      "\u001b[36mrp6bue5co8-algo-1-g4cu2 |\u001b[0m         \"learning_rate\": 2e-05,\n",
      "\u001b[36mrp6bue5co8-algo-1-g4cu2 |\u001b[0m         \"num_train_epochs\": 3.0,\n",
      "\u001b[36mrp6bue5co8-algo-1-g4cu2 |\u001b[0m         \"output_dir\": \"Not defined sagemaker\"\n",
      "\u001b[36mrp6bue5co8-algo-1-g4cu2 |\u001b[0m     },\n",
      "\u001b[36mrp6bue5co8-algo-1-g4cu2 |\u001b[0m     \"input_config_dir\": \"/opt/ml/input/config\",\n",
      "\u001b[36mrp6bue5co8-algo-1-g4cu2 |\u001b[0m     \"input_data_config\": {},\n",
      "\u001b[36mrp6bue5co8-algo-1-g4cu2 |\u001b[0m     \"input_dir\": \"/opt/ml/input\",\n",
      "\u001b[36mrp6bue5co8-algo-1-g4cu2 |\u001b[0m     \"is_master\": true,\n",
      "\u001b[36mrp6bue5co8-algo-1-g4cu2 |\u001b[0m     \"job_name\": \"huggingface-sdk-extension-2020-12-30-15-10-25-935\",\n",
      "\u001b[36mrp6bue5co8-algo-1-g4cu2 |\u001b[0m     \"log_level\": 20,\n",
      "\u001b[36mrp6bue5co8-algo-1-g4cu2 |\u001b[0m     \"master_hostname\": \"algo-1-g4cu2\",\n",
      "\u001b[36mrp6bue5co8-algo-1-g4cu2 |\u001b[0m     \"model_dir\": \"/opt/ml/model\",\n",
      "\u001b[36mrp6bue5co8-algo-1-g4cu2 |\u001b[0m     \"module_dir\": \"s3://sagemaker-eu-central-1-558105141721/huggingface-sdk-extension-2020-12-30-15-10-25-935/source/sourcedir.tar.gz\",\n",
      "\u001b[36mrp6bue5co8-algo-1-g4cu2 |\u001b[0m     \"module_name\": \"run_glue\",\n",
      "\u001b[36mrp6bue5co8-algo-1-g4cu2 |\u001b[0m     \"network_interface_name\": \"eth0\",\n",
      "\u001b[36mrp6bue5co8-algo-1-g4cu2 |\u001b[0m     \"num_cpus\": 4,\n",
      "\u001b[36mrp6bue5co8-algo-1-g4cu2 |\u001b[0m     \"num_gpus\": 0,\n",
      "\u001b[36mrp6bue5co8-algo-1-g4cu2 |\u001b[0m     \"output_data_dir\": \"/opt/ml/output/data\",\n",
      "\u001b[36mrp6bue5co8-algo-1-g4cu2 |\u001b[0m     \"output_dir\": \"/opt/ml/output\",\n",
      "\u001b[36mrp6bue5co8-algo-1-g4cu2 |\u001b[0m     \"output_intermediate_dir\": \"/opt/ml/output/intermediate\",\n",
      "\u001b[36mrp6bue5co8-algo-1-g4cu2 |\u001b[0m     \"resource_config\": {\n",
      "\u001b[36mrp6bue5co8-algo-1-g4cu2 |\u001b[0m         \"current_host\": \"algo-1-g4cu2\",\n",
      "\u001b[36mrp6bue5co8-algo-1-g4cu2 |\u001b[0m         \"hosts\": [\n",
      "\u001b[36mrp6bue5co8-algo-1-g4cu2 |\u001b[0m             \"algo-1-g4cu2\"\n",
      "\u001b[36mrp6bue5co8-algo-1-g4cu2 |\u001b[0m         ]\n",
      "\u001b[36mrp6bue5co8-algo-1-g4cu2 |\u001b[0m     },\n",
      "\u001b[36mrp6bue5co8-algo-1-g4cu2 |\u001b[0m     \"user_entry_point\": \"run_glue.py\"\n",
      "\u001b[36mrp6bue5co8-algo-1-g4cu2 |\u001b[0m }\n",
      "\u001b[36mrp6bue5co8-algo-1-g4cu2 |\u001b[0m \n",
      "\u001b[36mrp6bue5co8-algo-1-g4cu2 |\u001b[0m Environment variables:\n",
      "\u001b[36mrp6bue5co8-algo-1-g4cu2 |\u001b[0m \n",
      "\u001b[36mrp6bue5co8-algo-1-g4cu2 |\u001b[0m SM_HOSTS=[\"algo-1-g4cu2\"]\n",
      "\u001b[36mrp6bue5co8-algo-1-g4cu2 |\u001b[0m SM_NETWORK_INTERFACE_NAME=eth0\n",
      "\u001b[36mrp6bue5co8-algo-1-g4cu2 |\u001b[0m SM_HPS={\"do_eval\":true,\"do_train\":true,\"learning_rate\":2e-05,\"max_seq_length\":\"128\",\"model_name_or_path\":\"distilbert-base-cased\",\"num_train_epochs\":3.0,\"output_dir\":\"Not defined sagemaker\",\"per_device_train_batch_size\":32,\"task_name\":\"MRPC\"}\n",
      "\u001b[36mrp6bue5co8-algo-1-g4cu2 |\u001b[0m SM_USER_ENTRY_POINT=run_glue.py\n",
      "\u001b[36mrp6bue5co8-algo-1-g4cu2 |\u001b[0m SM_FRAMEWORK_PARAMS={}\n",
      "\u001b[36mrp6bue5co8-algo-1-g4cu2 |\u001b[0m SM_RESOURCE_CONFIG={\"current_host\":\"algo-1-g4cu2\",\"hosts\":[\"algo-1-g4cu2\"]}\n",
      "\u001b[36mrp6bue5co8-algo-1-g4cu2 |\u001b[0m SM_INPUT_DATA_CONFIG={}\n",
      "\u001b[36mrp6bue5co8-algo-1-g4cu2 |\u001b[0m SM_OUTPUT_DATA_DIR=/opt/ml/output/data\n",
      "\u001b[36mrp6bue5co8-algo-1-g4cu2 |\u001b[0m SM_CHANNELS=[]\n",
      "\u001b[36mrp6bue5co8-algo-1-g4cu2 |\u001b[0m SM_CURRENT_HOST=algo-1-g4cu2\n",
      "\u001b[36mrp6bue5co8-algo-1-g4cu2 |\u001b[0m SM_MODULE_NAME=run_glue\n",
      "\u001b[36mrp6bue5co8-algo-1-g4cu2 |\u001b[0m SM_LOG_LEVEL=20\n",
      "\u001b[36mrp6bue5co8-algo-1-g4cu2 |\u001b[0m SM_FRAMEWORK_MODULE=sagemaker_pytorch_container.training:main\n",
      "\u001b[36mrp6bue5co8-algo-1-g4cu2 |\u001b[0m SM_INPUT_DIR=/opt/ml/input\n",
      "\u001b[36mrp6bue5co8-algo-1-g4cu2 |\u001b[0m SM_INPUT_CONFIG_DIR=/opt/ml/input/config\n",
      "\u001b[36mrp6bue5co8-algo-1-g4cu2 |\u001b[0m SM_OUTPUT_DIR=/opt/ml/output\n",
      "\u001b[36mrp6bue5co8-algo-1-g4cu2 |\u001b[0m SM_NUM_CPUS=4\n",
      "\u001b[36mrp6bue5co8-algo-1-g4cu2 |\u001b[0m SM_NUM_GPUS=0\n",
      "\u001b[36mrp6bue5co8-algo-1-g4cu2 |\u001b[0m SM_MODEL_DIR=/opt/ml/model\n",
      "\u001b[36mrp6bue5co8-algo-1-g4cu2 |\u001b[0m SM_MODULE_DIR=s3://sagemaker-eu-central-1-558105141721/huggingface-sdk-extension-2020-12-30-15-10-25-935/source/sourcedir.tar.gz\n",
      "\u001b[36mrp6bue5co8-algo-1-g4cu2 |\u001b[0m SM_TRAINING_ENV={\"additional_framework_parameters\":{},\"channel_input_dirs\":{},\"current_host\":\"algo-1-g4cu2\",\"framework_module\":\"sagemaker_pytorch_container.training:main\",\"hosts\":[\"algo-1-g4cu2\"],\"hyperparameters\":{\"do_eval\":true,\"do_train\":true,\"learning_rate\":2e-05,\"max_seq_length\":\"128\",\"model_name_or_path\":\"distilbert-base-cased\",\"num_train_epochs\":3.0,\"output_dir\":\"Not defined sagemaker\",\"per_device_train_batch_size\":32,\"task_name\":\"MRPC\"},\"input_config_dir\":\"/opt/ml/input/config\",\"input_data_config\":{},\"input_dir\":\"/opt/ml/input\",\"is_master\":true,\"job_name\":\"huggingface-sdk-extension-2020-12-30-15-10-25-935\",\"log_level\":20,\"master_hostname\":\"algo-1-g4cu2\",\"model_dir\":\"/opt/ml/model\",\"module_dir\":\"s3://sagemaker-eu-central-1-558105141721/huggingface-sdk-extension-2020-12-30-15-10-25-935/source/sourcedir.tar.gz\",\"module_name\":\"run_glue\",\"network_interface_name\":\"eth0\",\"num_cpus\":4,\"num_gpus\":0,\"output_data_dir\":\"/opt/ml/output/data\",\"output_dir\":\"/opt/ml/output\",\"output_intermediate_dir\":\"/opt/ml/output/intermediate\",\"resource_config\":{\"current_host\":\"algo-1-g4cu2\",\"hosts\":[\"algo-1-g4cu2\"]},\"user_entry_point\":\"run_glue.py\"}\n",
      "\u001b[36mrp6bue5co8-algo-1-g4cu2 |\u001b[0m SM_USER_ARGS=[\"--do_eval\",\"True\",\"--do_train\",\"True\",\"--learning_rate\",\"2e-05\",\"--max_seq_length\",\"128\",\"--model_name_or_path\",\"distilbert-base-cased\",\"--num_train_epochs\",\"3.0\",\"--output_dir\",\"Not defined sagemaker\",\"--per_device_train_batch_size\",\"32\",\"--task_name\",\"MRPC\"]\n",
      "\u001b[36mrp6bue5co8-algo-1-g4cu2 |\u001b[0m SM_OUTPUT_INTERMEDIATE_DIR=/opt/ml/output/intermediate\n",
      "\u001b[36mrp6bue5co8-algo-1-g4cu2 |\u001b[0m SM_HP_MODEL_NAME_OR_PATH=distilbert-base-cased\n",
      "\u001b[36mrp6bue5co8-algo-1-g4cu2 |\u001b[0m SM_HP_TASK_NAME=MRPC\n",
      "\u001b[36mrp6bue5co8-algo-1-g4cu2 |\u001b[0m SM_HP_DO_TRAIN=true\n",
      "\u001b[36mrp6bue5co8-algo-1-g4cu2 |\u001b[0m SM_HP_DO_EVAL=true\n",
      "\u001b[36mrp6bue5co8-algo-1-g4cu2 |\u001b[0m SM_HP_MAX_SEQ_LENGTH=128\n",
      "\u001b[36mrp6bue5co8-algo-1-g4cu2 |\u001b[0m SM_HP_PER_DEVICE_TRAIN_BATCH_SIZE=32\n",
      "\u001b[36mrp6bue5co8-algo-1-g4cu2 |\u001b[0m SM_HP_LEARNING_RATE=2e-05\n",
      "\u001b[36mrp6bue5co8-algo-1-g4cu2 |\u001b[0m SM_HP_NUM_TRAIN_EPOCHS=3.0\n",
      "\u001b[36mrp6bue5co8-algo-1-g4cu2 |\u001b[0m SM_HP_OUTPUT_DIR=Not defined sagemaker\n",
      "\u001b[36mrp6bue5co8-algo-1-g4cu2 |\u001b[0m PYTHONPATH=/opt/ml/code:/opt/conda/bin:/opt/conda/lib/python36.zip:/opt/conda/lib/python3.6:/opt/conda/lib/python3.6/lib-dynload:/opt/conda/lib/python3.6/site-packages\n",
      "\u001b[36mrp6bue5co8-algo-1-g4cu2 |\u001b[0m \n",
      "\u001b[36mrp6bue5co8-algo-1-g4cu2 |\u001b[0m Invoking script with the following command:\n",
      "\u001b[36mrp6bue5co8-algo-1-g4cu2 |\u001b[0m \n",
      "\u001b[36mrp6bue5co8-algo-1-g4cu2 |\u001b[0m /opt/conda/bin/python run_glue.py --do_eval True --do_train True --learning_rate 2e-05 --max_seq_length 128 --model_name_or_path distilbert-base-cased --num_train_epochs 3.0 --output_dir Not defined sagemaker --per_device_train_batch_size 32 --task_name MRPC\n",
      "\u001b[36mrp6bue5co8-algo-1-g4cu2 |\u001b[0m \n",
      "\u001b[36mrp6bue5co8-algo-1-g4cu2 |\u001b[0m \n"
     ]
    },
    {
     "name": "stdout",
     "output_type": "stream",
     "text": [
      "\u001b[36mrp6bue5co8-algo-1-g4cu2 |\u001b[0m Traceback (most recent call last):\r\n",
      "\u001b[36mrp6bue5co8-algo-1-g4cu2 |\u001b[0m   File \"run_glue.py\", line 467, in <module>\r\n",
      "\u001b[36mrp6bue5co8-algo-1-g4cu2 |\u001b[0m     main()\r\n",
      "\u001b[36mrp6bue5co8-algo-1-g4cu2 |\u001b[0m   File \"run_glue.py\", line 146, in main\r\n",
      "\u001b[36mrp6bue5co8-algo-1-g4cu2 |\u001b[0m     model_args, data_args, training_args = parser.parse_args_into_dataclasses()\r\n",
      "\u001b[36mrp6bue5co8-algo-1-g4cu2 |\u001b[0m   File \"/opt/conda/lib/python3.6/site-packages/transformers/hf_argparser.py\", line 158, in parse_args_into_dataclasses\r\n",
      "\u001b[36mrp6bue5co8-algo-1-g4cu2 |\u001b[0m     raise ValueError(f\"Some specified arguments are not used by the HfArgumentParser: {remaining_args}\")\r\n",
      "\u001b[36mrp6bue5co8-algo-1-g4cu2 |\u001b[0m ValueError: Some specified arguments are not used by the HfArgumentParser: ['True', 'True']\r\n",
      "\u001b[36mrp6bue5co8-algo-1-g4cu2 |\u001b[0m \r\n",
      "\u001b[36mrp6bue5co8-algo-1-g4cu2 |\u001b[0m 2020-12-30 15:10:30,482 sagemaker-training-toolkit ERROR    ExecuteUserScriptError:\r\n",
      "\u001b[36mrp6bue5co8-algo-1-g4cu2 |\u001b[0m Command \"/opt/conda/bin/python run_glue.py --do_eval True --do_train True --learning_rate 2e-05 --max_seq_length 128 --model_name_or_path distilbert-base-cased --num_train_epochs 3.0 --output_dir Not defined sagemaker --per_device_train_batch_size 32 --task_name MRPC\"\r\n",
      "\u001b[36mrp6bue5co8-algo-1-g4cu2 |\u001b[0m Traceback (most recent call last):\r\n",
      "\u001b[36mrp6bue5co8-algo-1-g4cu2 |\u001b[0m   File \"run_glue.py\", line 467, in <module>\r\n",
      "\u001b[36mrp6bue5co8-algo-1-g4cu2 |\u001b[0m     main()\r\n",
      "\u001b[36mrp6bue5co8-algo-1-g4cu2 |\u001b[0m   File \"run_glue.py\", line 146, in main\r\n",
      "\u001b[36mrp6bue5co8-algo-1-g4cu2 |\u001b[0m     model_args, data_args, training_args = parser.parse_args_into_dataclasses()\r\n",
      "\u001b[36mrp6bue5co8-algo-1-g4cu2 |\u001b[0m   File \"/opt/conda/lib/python3.6/site-packages/transformers/hf_argparser.py\", line 158, in parse_args_into_dataclasses\r\n",
      "\u001b[36mrp6bue5co8-algo-1-g4cu2 |\u001b[0m     raise ValueError(f\"Some specified arguments are not used by the HfArgumentParser: {remaining_args}\")\r\n",
      "\u001b[36mrp6bue5co8-algo-1-g4cu2 |\u001b[0m ValueError: Some specified arguments are not used by the HfArgumentParser: ['True', 'True']\r\n",
      "\u001b[36mrp6bue5co8-algo-1-g4cu2 exited with code 1\n",
      "\u001b[0mAborting on container exit...\n"
     ]
    },
    {
     "ename": "RuntimeError",
     "evalue": "Failed to run: ['docker-compose', '-f', '/private/var/folders/jj/dzns9hc55db1vmfsjvrh9n8m0000gp/T/tmpusce6rmq/docker-compose.yaml', 'up', '--build', '--abort-on-container-exit'], Process exited with code: 1",
     "output_type": "error",
     "traceback": [
      "\u001b[0;31m---------------------------------------------------------------------------\u001b[0m",
      "\u001b[0;31mRuntimeError\u001b[0m                              Traceback (most recent call last)",
      "\u001b[0;32m~/.anaconda3/envs/hf/lib/python3.8/site-packages/sagemaker/local/image.py\u001b[0m in \u001b[0;36mtrain\u001b[0;34m(self, input_data_config, output_data_config, hyperparameters, job_name)\u001b[0m\n\u001b[1;32m    236\u001b[0m         \u001b[0;32mtry\u001b[0m\u001b[0;34m:\u001b[0m\u001b[0;34m\u001b[0m\u001b[0;34m\u001b[0m\u001b[0m\n\u001b[0;32m--> 237\u001b[0;31m             \u001b[0m_stream_output\u001b[0m\u001b[0;34m(\u001b[0m\u001b[0mprocess\u001b[0m\u001b[0;34m)\u001b[0m\u001b[0;34m\u001b[0m\u001b[0;34m\u001b[0m\u001b[0m\n\u001b[0m\u001b[1;32m    238\u001b[0m         \u001b[0;32mexcept\u001b[0m \u001b[0mRuntimeError\u001b[0m \u001b[0;32mas\u001b[0m \u001b[0me\u001b[0m\u001b[0;34m:\u001b[0m\u001b[0;34m\u001b[0m\u001b[0;34m\u001b[0m\u001b[0m\n",
      "\u001b[0;32m~/.anaconda3/envs/hf/lib/python3.8/site-packages/sagemaker/local/image.py\u001b[0m in \u001b[0;36m_stream_output\u001b[0;34m(process)\u001b[0m\n\u001b[1;32m    886\u001b[0m     \u001b[0;32mif\u001b[0m \u001b[0mexit_code\u001b[0m \u001b[0;34m!=\u001b[0m \u001b[0;36m0\u001b[0m\u001b[0;34m:\u001b[0m\u001b[0;34m\u001b[0m\u001b[0;34m\u001b[0m\u001b[0m\n\u001b[0;32m--> 887\u001b[0;31m         \u001b[0;32mraise\u001b[0m \u001b[0mRuntimeError\u001b[0m\u001b[0;34m(\u001b[0m\u001b[0;34m\"Process exited with code: %s\"\u001b[0m \u001b[0;34m%\u001b[0m \u001b[0mexit_code\u001b[0m\u001b[0;34m)\u001b[0m\u001b[0;34m\u001b[0m\u001b[0;34m\u001b[0m\u001b[0m\n\u001b[0m\u001b[1;32m    888\u001b[0m \u001b[0;34m\u001b[0m\u001b[0m\n",
      "\u001b[0;31mRuntimeError\u001b[0m: Process exited with code: 1",
      "\nDuring handling of the above exception, another exception occurred:\n",
      "\u001b[0;31mRuntimeError\u001b[0m                              Traceback (most recent call last)",
      "\u001b[0;32m<ipython-input-17-057a275548e5>\u001b[0m in \u001b[0;36m<module>\u001b[0;34m\u001b[0m\n\u001b[0;32m----> 1\u001b[0;31m \u001b[0mlocal_estimator\u001b[0m\u001b[0;34m.\u001b[0m\u001b[0mfit\u001b[0m\u001b[0;34m(\u001b[0m\u001b[0;34m)\u001b[0m\u001b[0;34m\u001b[0m\u001b[0;34m\u001b[0m\u001b[0m\n\u001b[0m",
      "\u001b[0;32m~/.anaconda3/envs/hf/lib/python3.8/site-packages/sagemaker/estimator.py\u001b[0m in \u001b[0;36mfit\u001b[0;34m(self, inputs, wait, logs, job_name, experiment_config)\u001b[0m\n\u001b[1;32m    654\u001b[0m         \u001b[0mself\u001b[0m\u001b[0;34m.\u001b[0m\u001b[0m_prepare_for_training\u001b[0m\u001b[0;34m(\u001b[0m\u001b[0mjob_name\u001b[0m\u001b[0;34m=\u001b[0m\u001b[0mjob_name\u001b[0m\u001b[0;34m)\u001b[0m\u001b[0;34m\u001b[0m\u001b[0;34m\u001b[0m\u001b[0m\n\u001b[1;32m    655\u001b[0m \u001b[0;34m\u001b[0m\u001b[0m\n\u001b[0;32m--> 656\u001b[0;31m         \u001b[0mself\u001b[0m\u001b[0;34m.\u001b[0m\u001b[0mlatest_training_job\u001b[0m \u001b[0;34m=\u001b[0m \u001b[0m_TrainingJob\u001b[0m\u001b[0;34m.\u001b[0m\u001b[0mstart_new\u001b[0m\u001b[0;34m(\u001b[0m\u001b[0mself\u001b[0m\u001b[0;34m,\u001b[0m \u001b[0minputs\u001b[0m\u001b[0;34m,\u001b[0m \u001b[0mexperiment_config\u001b[0m\u001b[0;34m)\u001b[0m\u001b[0;34m\u001b[0m\u001b[0;34m\u001b[0m\u001b[0m\n\u001b[0m\u001b[1;32m    657\u001b[0m         \u001b[0mself\u001b[0m\u001b[0;34m.\u001b[0m\u001b[0mjobs\u001b[0m\u001b[0;34m.\u001b[0m\u001b[0mappend\u001b[0m\u001b[0;34m(\u001b[0m\u001b[0mself\u001b[0m\u001b[0;34m.\u001b[0m\u001b[0mlatest_training_job\u001b[0m\u001b[0;34m)\u001b[0m\u001b[0;34m\u001b[0m\u001b[0;34m\u001b[0m\u001b[0m\n\u001b[1;32m    658\u001b[0m         \u001b[0;32mif\u001b[0m \u001b[0mwait\u001b[0m\u001b[0;34m:\u001b[0m\u001b[0;34m\u001b[0m\u001b[0;34m\u001b[0m\u001b[0m\n",
      "\u001b[0;32m~/.anaconda3/envs/hf/lib/python3.8/site-packages/sagemaker/estimator.py\u001b[0m in \u001b[0;36mstart_new\u001b[0;34m(cls, estimator, inputs, experiment_config)\u001b[0m\n\u001b[1;32m   1417\u001b[0m         \"\"\"\n\u001b[1;32m   1418\u001b[0m         \u001b[0mtrain_args\u001b[0m \u001b[0;34m=\u001b[0m \u001b[0mcls\u001b[0m\u001b[0;34m.\u001b[0m\u001b[0m_get_train_args\u001b[0m\u001b[0;34m(\u001b[0m\u001b[0mestimator\u001b[0m\u001b[0;34m,\u001b[0m \u001b[0minputs\u001b[0m\u001b[0;34m,\u001b[0m \u001b[0mexperiment_config\u001b[0m\u001b[0;34m)\u001b[0m\u001b[0;34m\u001b[0m\u001b[0;34m\u001b[0m\u001b[0m\n\u001b[0;32m-> 1419\u001b[0;31m         \u001b[0mestimator\u001b[0m\u001b[0;34m.\u001b[0m\u001b[0msagemaker_session\u001b[0m\u001b[0;34m.\u001b[0m\u001b[0mtrain\u001b[0m\u001b[0;34m(\u001b[0m\u001b[0;34m**\u001b[0m\u001b[0mtrain_args\u001b[0m\u001b[0;34m)\u001b[0m\u001b[0;34m\u001b[0m\u001b[0;34m\u001b[0m\u001b[0m\n\u001b[0m\u001b[1;32m   1420\u001b[0m \u001b[0;34m\u001b[0m\u001b[0m\n\u001b[1;32m   1421\u001b[0m         \u001b[0;32mreturn\u001b[0m \u001b[0mcls\u001b[0m\u001b[0;34m(\u001b[0m\u001b[0mestimator\u001b[0m\u001b[0;34m.\u001b[0m\u001b[0msagemaker_session\u001b[0m\u001b[0;34m,\u001b[0m \u001b[0mestimator\u001b[0m\u001b[0;34m.\u001b[0m\u001b[0m_current_job_name\u001b[0m\u001b[0;34m)\u001b[0m\u001b[0;34m\u001b[0m\u001b[0;34m\u001b[0m\u001b[0m\n",
      "\u001b[0;32m~/.anaconda3/envs/hf/lib/python3.8/site-packages/sagemaker/session.py\u001b[0m in \u001b[0;36mtrain\u001b[0;34m(self, input_mode, input_config, role, job_name, output_config, resource_config, vpc_config, hyperparameters, stop_condition, tags, metric_definitions, enable_network_isolation, image_uri, algorithm_arn, encrypt_inter_container_traffic, use_spot_instances, checkpoint_s3_uri, checkpoint_local_path, experiment_config, debugger_rule_configs, debugger_hook_config, tensorboard_output_config, enable_sagemaker_metrics, profiler_rule_configs, profiler_config)\u001b[0m\n\u001b[1;32m    560\u001b[0m         \u001b[0mLOGGER\u001b[0m\u001b[0;34m.\u001b[0m\u001b[0minfo\u001b[0m\u001b[0;34m(\u001b[0m\u001b[0;34m\"Creating training-job with name: %s\"\u001b[0m\u001b[0;34m,\u001b[0m \u001b[0mjob_name\u001b[0m\u001b[0;34m)\u001b[0m\u001b[0;34m\u001b[0m\u001b[0;34m\u001b[0m\u001b[0m\n\u001b[1;32m    561\u001b[0m         \u001b[0mLOGGER\u001b[0m\u001b[0;34m.\u001b[0m\u001b[0mdebug\u001b[0m\u001b[0;34m(\u001b[0m\u001b[0;34m\"train request: %s\"\u001b[0m\u001b[0;34m,\u001b[0m \u001b[0mjson\u001b[0m\u001b[0;34m.\u001b[0m\u001b[0mdumps\u001b[0m\u001b[0;34m(\u001b[0m\u001b[0mtrain_request\u001b[0m\u001b[0;34m,\u001b[0m \u001b[0mindent\u001b[0m\u001b[0;34m=\u001b[0m\u001b[0;36m4\u001b[0m\u001b[0;34m)\u001b[0m\u001b[0;34m)\u001b[0m\u001b[0;34m\u001b[0m\u001b[0;34m\u001b[0m\u001b[0m\n\u001b[0;32m--> 562\u001b[0;31m         \u001b[0mself\u001b[0m\u001b[0;34m.\u001b[0m\u001b[0msagemaker_client\u001b[0m\u001b[0;34m.\u001b[0m\u001b[0mcreate_training_job\u001b[0m\u001b[0;34m(\u001b[0m\u001b[0;34m**\u001b[0m\u001b[0mtrain_request\u001b[0m\u001b[0;34m)\u001b[0m\u001b[0;34m\u001b[0m\u001b[0;34m\u001b[0m\u001b[0m\n\u001b[0m\u001b[1;32m    563\u001b[0m \u001b[0;34m\u001b[0m\u001b[0m\n\u001b[1;32m    564\u001b[0m     def _get_train_request(  # noqa: C901\n",
      "\u001b[0;32m~/.anaconda3/envs/hf/lib/python3.8/site-packages/sagemaker/local/local_session.py\u001b[0m in \u001b[0;36mcreate_training_job\u001b[0;34m(self, TrainingJobName, AlgorithmSpecification, OutputDataConfig, ResourceConfig, InputDataConfig, **kwargs)\u001b[0m\n\u001b[1;32m    184\u001b[0m         \u001b[0mhyperparameters\u001b[0m \u001b[0;34m=\u001b[0m \u001b[0mkwargs\u001b[0m\u001b[0;34m[\u001b[0m\u001b[0;34m\"HyperParameters\"\u001b[0m\u001b[0;34m]\u001b[0m \u001b[0;32mif\u001b[0m \u001b[0;34m\"HyperParameters\"\u001b[0m \u001b[0;32min\u001b[0m \u001b[0mkwargs\u001b[0m \u001b[0;32melse\u001b[0m \u001b[0;34m{\u001b[0m\u001b[0;34m}\u001b[0m\u001b[0;34m\u001b[0m\u001b[0;34m\u001b[0m\u001b[0m\n\u001b[1;32m    185\u001b[0m         \u001b[0mlogger\u001b[0m\u001b[0;34m.\u001b[0m\u001b[0minfo\u001b[0m\u001b[0;34m(\u001b[0m\u001b[0;34m\"Starting training job\"\u001b[0m\u001b[0;34m)\u001b[0m\u001b[0;34m\u001b[0m\u001b[0;34m\u001b[0m\u001b[0m\n\u001b[0;32m--> 186\u001b[0;31m         \u001b[0mtraining_job\u001b[0m\u001b[0;34m.\u001b[0m\u001b[0mstart\u001b[0m\u001b[0;34m(\u001b[0m\u001b[0mInputDataConfig\u001b[0m\u001b[0;34m,\u001b[0m \u001b[0mOutputDataConfig\u001b[0m\u001b[0;34m,\u001b[0m \u001b[0mhyperparameters\u001b[0m\u001b[0;34m,\u001b[0m \u001b[0mTrainingJobName\u001b[0m\u001b[0;34m)\u001b[0m\u001b[0;34m\u001b[0m\u001b[0;34m\u001b[0m\u001b[0m\n\u001b[0m\u001b[1;32m    187\u001b[0m \u001b[0;34m\u001b[0m\u001b[0m\n\u001b[1;32m    188\u001b[0m         \u001b[0mLocalSagemakerClient\u001b[0m\u001b[0;34m.\u001b[0m\u001b[0m_training_jobs\u001b[0m\u001b[0;34m[\u001b[0m\u001b[0mTrainingJobName\u001b[0m\u001b[0;34m]\u001b[0m \u001b[0;34m=\u001b[0m \u001b[0mtraining_job\u001b[0m\u001b[0;34m\u001b[0m\u001b[0;34m\u001b[0m\u001b[0m\n",
      "\u001b[0;32m~/.anaconda3/envs/hf/lib/python3.8/site-packages/sagemaker/local/entities.py\u001b[0m in \u001b[0;36mstart\u001b[0;34m(self, input_data_config, output_data_config, hyperparameters, job_name)\u001b[0m\n\u001b[1;32m    218\u001b[0m         \u001b[0mself\u001b[0m\u001b[0;34m.\u001b[0m\u001b[0mstate\u001b[0m \u001b[0;34m=\u001b[0m \u001b[0mself\u001b[0m\u001b[0;34m.\u001b[0m\u001b[0m_TRAINING\u001b[0m\u001b[0;34m\u001b[0m\u001b[0;34m\u001b[0m\u001b[0m\n\u001b[1;32m    219\u001b[0m \u001b[0;34m\u001b[0m\u001b[0m\n\u001b[0;32m--> 220\u001b[0;31m         self.model_artifacts = self.container.train(\n\u001b[0m\u001b[1;32m    221\u001b[0m             \u001b[0minput_data_config\u001b[0m\u001b[0;34m,\u001b[0m \u001b[0moutput_data_config\u001b[0m\u001b[0;34m,\u001b[0m \u001b[0mhyperparameters\u001b[0m\u001b[0;34m,\u001b[0m \u001b[0mjob_name\u001b[0m\u001b[0;34m\u001b[0m\u001b[0;34m\u001b[0m\u001b[0m\n\u001b[1;32m    222\u001b[0m         )\n",
      "\u001b[0;32m~/.anaconda3/envs/hf/lib/python3.8/site-packages/sagemaker/local/image.py\u001b[0m in \u001b[0;36mtrain\u001b[0;34m(self, input_data_config, output_data_config, hyperparameters, job_name)\u001b[0m\n\u001b[1;32m    240\u001b[0m             \u001b[0;31m# which contains the exit code and append the command line to it.\u001b[0m\u001b[0;34m\u001b[0m\u001b[0;34m\u001b[0m\u001b[0;34m\u001b[0m\u001b[0m\n\u001b[1;32m    241\u001b[0m             \u001b[0mmsg\u001b[0m \u001b[0;34m=\u001b[0m \u001b[0;34m\"Failed to run: %s, %s\"\u001b[0m \u001b[0;34m%\u001b[0m \u001b[0;34m(\u001b[0m\u001b[0mcompose_command\u001b[0m\u001b[0;34m,\u001b[0m \u001b[0mstr\u001b[0m\u001b[0;34m(\u001b[0m\u001b[0me\u001b[0m\u001b[0;34m)\u001b[0m\u001b[0;34m)\u001b[0m\u001b[0;34m\u001b[0m\u001b[0;34m\u001b[0m\u001b[0m\n\u001b[0;32m--> 242\u001b[0;31m             \u001b[0;32mraise\u001b[0m \u001b[0mRuntimeError\u001b[0m\u001b[0;34m(\u001b[0m\u001b[0mmsg\u001b[0m\u001b[0;34m)\u001b[0m\u001b[0;34m\u001b[0m\u001b[0;34m\u001b[0m\u001b[0m\n\u001b[0m\u001b[1;32m    243\u001b[0m         \u001b[0;32mfinally\u001b[0m\u001b[0;34m:\u001b[0m\u001b[0;34m\u001b[0m\u001b[0;34m\u001b[0m\u001b[0m\n\u001b[1;32m    244\u001b[0m             \u001b[0martifacts\u001b[0m \u001b[0;34m=\u001b[0m \u001b[0mself\u001b[0m\u001b[0;34m.\u001b[0m\u001b[0mretrieve_artifacts\u001b[0m\u001b[0;34m(\u001b[0m\u001b[0mcompose_data\u001b[0m\u001b[0;34m,\u001b[0m \u001b[0moutput_data_config\u001b[0m\u001b[0;34m,\u001b[0m \u001b[0mjob_name\u001b[0m\u001b[0;34m)\u001b[0m\u001b[0;34m\u001b[0m\u001b[0;34m\u001b[0m\u001b[0m\n",
      "\u001b[0;31mRuntimeError\u001b[0m: Failed to run: ['docker-compose', '-f', '/private/var/folders/jj/dzns9hc55db1vmfsjvrh9n8m0000gp/T/tmpusce6rmq/docker-compose.yaml', 'up', '--build', '--abort-on-container-exit'], Process exited with code: 1"
     ]
    }
   ],
   "source": [
    "local_estimator.fit()"
   ]
  },
  {
   "cell_type": "markdown",
   "metadata": {},
   "source": [
    "## Sagemaker Estimator"
   ]
  },
  {
   "cell_type": "code",
   "execution_count": 32,
   "metadata": {},
   "outputs": [],
   "source": [
    "from huggingface.estimator import HuggingFace\n",
    "\n",
    "\n",
    "huggingface_estimator = HuggingFace(entry_point='train.py',\n",
    "                            source_dir='../scripts',\n",
    "                            sagemaker_session=sess,\n",
    "                            use_spot_instances=True,\n",
    "                            max_wait=4600, # This should be equal to or greater than max_run in seconds'\n",
    "                            max_run=3600,\n",
    "                            base_job_name='huggingface-sdk-extension',\n",
    "                            instance_type='ml.p3.2xlarge',\n",
    "                            instance_count=1,\n",
    "                            role=role,\n",
    "                            framework_version={'transformers':'4.1.1','datasets':'1.1.3'},\n",
    "                            py_version='py3',\n",
    "                            hyperparameters = {'epochs': 3,\n",
    "                                               'train_batch_size': 16,\n",
    "                                               'model_name':'distilbert-base-uncased'})"
   ]
  },
  {
   "cell_type": "code",
   "execution_count": null,
   "metadata": {},
   "outputs": [],
   "source": []
  }
 ],
 "metadata": {
  "instance_type": "ml.t3.medium",
  "kernelspec": {
   "display_name": "Python 3",
   "language": "python",
   "name": "python3"
  },
  "language_info": {
   "codemirror_mode": {
    "name": "ipython",
    "version": 3
   },
   "file_extension": ".py",
   "mimetype": "text/x-python",
   "name": "python",
   "nbconvert_exporter": "python",
   "pygments_lexer": "ipython3",
   "version": "3.8.5"
  }
 },
 "nbformat": 4,
 "nbformat_minor": 4
}
